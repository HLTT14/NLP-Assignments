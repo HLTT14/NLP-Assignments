{
  "nbformat": 4,
  "nbformat_minor": 0,
  "metadata": {
    "colab": {
      "name": "NLP-Assignment1.ipynb",
      "provenance": [],
      "collapsed_sections": [],
      "include_colab_link": true
    },
    "kernelspec": {
      "display_name": "Python 3",
      "name": "python3"
    }
  },
  "cells": [
    {
      "cell_type": "markdown",
      "metadata": {
        "id": "view-in-github",
        "colab_type": "text"
      },
      "source": [
        "<a href=\"https://colab.research.google.com/github/HLTT14/NLP-Assignments/blob/main/NLP_Assignment1.ipynb\" target=\"_parent\"><img src=\"https://colab.research.google.com/assets/colab-badge.svg\" alt=\"Open In Colab\"/></a>"
      ]
    },
    {
      "cell_type": "markdown",
      "metadata": {
        "id": "uUmCJcRJh9Kn"
      },
      "source": [
        "# **Gender Detection**"
      ]
    },
    {
      "cell_type": "markdown",
      "metadata": {
        "id": "x04WXPVLjaEw"
      },
      "source": [
        "# Import Libraries"
      ]
    },
    {
      "cell_type": "code",
      "metadata": {
        "id": "yKX1TX7MakoR"
      },
      "source": [
        "import os\n",
        "import pandas as pd"
      ],
      "execution_count": 8,
      "outputs": []
    },
    {
      "cell_type": "markdown",
      "metadata": {
        "id": "rfhT7EB1RkMI"
      },
      "source": [
        "# Import Data"
      ]
    },
    {
      "cell_type": "code",
      "metadata": {
        "colab": {
          "base_uri": "https://localhost:8080/",
          "height": 419
        },
        "id": "6McOMUeyfxIj",
        "outputId": "ddf998c0-ccbb-47be-cfe1-bc248a9cd11f"
      },
      "source": [
        "data = []\n",
        "\n",
        "def read_files(path, tag):\n",
        "  os.chdir(path) \n",
        "  for file in os.listdir(): \n",
        "        with open(f\"{path}/{file}\", 'r') as f: \n",
        "            data.append([f.read(), tag])\n",
        "\n",
        "read_files(\"/content/drive/MyDrive/Data sets/NLP Assignment1 Dataset/female\", \"female\")\n",
        "read_files(\"/content/drive/MyDrive/Data sets/NLP Assignment1 Dataset/male\", \"male\")\n",
        "\n",
        "df = pd.DataFrame(data, columns = [\"Comment\", \"Gender\"]) \n",
        "df"
      ],
      "execution_count": 15,
      "outputs": [
        {
          "output_type": "execute_result",
          "data": {
            "text/html": [
              "<div>\n",
              "<style scoped>\n",
              "    .dataframe tbody tr th:only-of-type {\n",
              "        vertical-align: middle;\n",
              "    }\n",
              "\n",
              "    .dataframe tbody tr th {\n",
              "        vertical-align: top;\n",
              "    }\n",
              "\n",
              "    .dataframe thead th {\n",
              "        text-align: right;\n",
              "    }\n",
              "</style>\n",
              "<table border=\"1\" class=\"dataframe\">\n",
              "  <thead>\n",
              "    <tr style=\"text-align: right;\">\n",
              "      <th></th>\n",
              "      <th>Comment</th>\n",
              "      <th>Gender</th>\n",
              "    </tr>\n",
              "  </thead>\n",
              "  <tbody>\n",
              "    <tr>\n",
              "      <th>0</th>\n",
              "      <td>من 4 روز میشه که از کیش اومدم وقتی وارد هتل شد...</td>\n",
              "      <td>female</td>\n",
              "    </tr>\n",
              "    <tr>\n",
              "      <th>1</th>\n",
              "      <td>ما هفته اول آبان ماه در آن هتل اقامت داشتیم و ...</td>\n",
              "      <td>female</td>\n",
              "    </tr>\n",
              "    <tr>\n",
              "      <th>2</th>\n",
              "      <td>ما پارسال این هتل بودیم\\nاتاق تمیز و مرتب بود ...</td>\n",
              "      <td>female</td>\n",
              "    </tr>\n",
              "    <tr>\n",
              "      <th>3</th>\n",
              "      <td>باسلام من و مادرم از تاریخ 30تا2 درهتل انا بود...</td>\n",
              "      <td>female</td>\n",
              "    </tr>\n",
              "    <tr>\n",
              "      <th>4</th>\n",
              "      <td>من اول دیماه89 با دوتا از دوستام رفتم این هتل....</td>\n",
              "      <td>female</td>\n",
              "    </tr>\n",
              "    <tr>\n",
              "      <th>...</th>\n",
              "      <td>...</td>\n",
              "      <td>...</td>\n",
              "    </tr>\n",
              "    <tr>\n",
              "      <th>1995</th>\n",
              "      <td>من تا به حال دوبار به این هتل رفتم\\nقیمت سوئیت...</td>\n",
              "      <td>male</td>\n",
              "    </tr>\n",
              "    <tr>\n",
              "      <th>1996</th>\n",
              "      <td>اقای ابی زاده دست مریضاد خسته نباشید ایول به ه...</td>\n",
              "      <td>male</td>\n",
              "    </tr>\n",
              "    <tr>\n",
              "      <th>1997</th>\n",
              "      <td>اگر به اسم 3 ستاره به این هتل برید کاملا در اش...</td>\n",
              "      <td>male</td>\n",
              "    </tr>\n",
              "    <tr>\n",
              "      <th>1998</th>\n",
              "      <td>درکل هتل خوبی بود البته هتل که نمبسه گفت بیشتر...</td>\n",
              "      <td>male</td>\n",
              "    </tr>\n",
              "    <tr>\n",
              "      <th>1999</th>\n",
              "      <td>سلام من از تاریخ 28/2/89 لغایت 31/2/89 در این ...</td>\n",
              "      <td>male</td>\n",
              "    </tr>\n",
              "  </tbody>\n",
              "</table>\n",
              "<p>2000 rows × 2 columns</p>\n",
              "</div>"
            ],
            "text/plain": [
              "                                                Comment  Gender\n",
              "0     من 4 روز میشه که از کیش اومدم وقتی وارد هتل شد...  female\n",
              "1     ما هفته اول آبان ماه در آن هتل اقامت داشتیم و ...  female\n",
              "2     ما پارسال این هتل بودیم\\nاتاق تمیز و مرتب بود ...  female\n",
              "3     باسلام من و مادرم از تاریخ 30تا2 درهتل انا بود...  female\n",
              "4     من اول دیماه89 با دوتا از دوستام رفتم این هتل....  female\n",
              "...                                                 ...     ...\n",
              "1995  من تا به حال دوبار به این هتل رفتم\\nقیمت سوئیت...    male\n",
              "1996  اقای ابی زاده دست مریضاد خسته نباشید ایول به ه...    male\n",
              "1997  اگر به اسم 3 ستاره به این هتل برید کاملا در اش...    male\n",
              "1998  درکل هتل خوبی بود البته هتل که نمبسه گفت بیشتر...    male\n",
              "1999  سلام من از تاریخ 28/2/89 لغایت 31/2/89 در این ...    male\n",
              "\n",
              "[2000 rows x 2 columns]"
            ]
          },
          "metadata": {
            "tags": []
          },
          "execution_count": 15
        }
      ]
    }
  ]
}